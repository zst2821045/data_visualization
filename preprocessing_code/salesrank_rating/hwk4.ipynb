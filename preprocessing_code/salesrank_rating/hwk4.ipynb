{
 "cells": [
  {
   "cell_type": "code",
   "execution_count": 1,
   "metadata": {
    "collapsed": false
   },
   "outputs": [
    {
     "name": "stdout",
     "output_type": "stream",
     "text": [
      "dict builded\n"
     ]
    }
   ],
   "source": [
    "import fileinput\n",
    "amazon_file=fileinput.FileInput('amazon-meta.txt')\n",
    "dicts={}\n",
    "for line in amazon_file:\n",
    "    line=line.strip().split(':')\n",
    "    if line[0]=='Id':\n",
    "        dicts[line[1].strip()]={}\n",
    "        var=line[1].strip()\n",
    "    if line[0]=='group':\n",
    "        dicts[var]['group']=line[1].strip()\n",
    "    if line[0]=='salesrank':\n",
    "        dicts[var]['salesrank']=line[1].strip()\n",
    "    if line[0]=='categories':\n",
    "        dicts[var]['counts']=line[1].strip()\n",
    "print(\"dict builded\")"
   ]
  },
  {
   "cell_type": "code",
   "execution_count": 3,
   "metadata": {
    "collapsed": false
   },
   "outputs": [
    {
     "data": {
      "text/plain": [
       "'2'"
      ]
     },
     "execution_count": 3,
     "metadata": {},
     "output_type": "execute_result"
    }
   ],
   "source": [
    "dicts['2']['counts']"
   ]
  },
  {
   "cell_type": "code",
   "execution_count": 4,
   "metadata": {
    "collapsed": false
   },
   "outputs": [],
   "source": [
    "data=[]\n",
    "for key in dicts.keys():\n",
    "    row=[]\n",
    "    row.append(key)\n",
    "    try:\n",
    "        row.append(dicts[key]['group'])\n",
    "        row.append(dicts[key]['salesrank'])\n",
    "        row.append(dicts[key]['counts'])\n",
    "    except KeyError:\n",
    "        continue\n",
    "    data.append(row)"
   ]
  },
  {
   "cell_type": "code",
   "execution_count": 4,
   "metadata": {
    "collapsed": true
   },
   "outputs": [],
   "source": [
    "def cal_rank(x):\n",
    "    x=int(x)\n",
    "    if x<50000:\n",
    "        y=\"<50000\"\n",
    "    elif x>=50000 and x<100000:\n",
    "        y=\"50000-100000\"\n",
    "    elif x>=100000 and x<150000:\n",
    "        y=\"100000-150000\"\n",
    "    elif x>=150000 and x<200000:\n",
    "        y=\"150000-200000\"\n",
    "    elif x>=200000 and x<250000:\n",
    "        y=\"200000-250000\"\n",
    "    elif x>=250000 and x<300000:\n",
    "        y=\"250000-300000\"\n",
    "    elif x>=300000 and x<350000:\n",
    "        y=\"300000-350000\"\n",
    "    elif x>=350000 and x<400000:\n",
    "        y=\"350000-400000\"\n",
    "    elif x>=400000 and x<450000:\n",
    "        y=\"400000-450000\"\n",
    "    elif x>=450000 and x<500000:\n",
    "        y=\"450000-500000\"\n",
    "    elif x>=500000 and x<550000:\n",
    "        y=\"500000-550000\"\n",
    "    elif x>=550000 and x<600000:\n",
    "        y=\"550000-600000\"\n",
    "    elif x>=600000 and x<650000:\n",
    "        y=\"600000-650000\"\n",
    "    elif x>=650000 and x<700000:\n",
    "        y=\"650000-700000\"\n",
    "    elif x>=700000 and x<750000:\n",
    "        y=\"700000-750000\"\n",
    "    elif x>=750000 and x<800000:\n",
    "        y=\"750000-800000\"\n",
    "    elif x>=800000 and x<850000:\n",
    "        y=\"800000-850000\"\n",
    "    elif x>=850000 and x<900000:\n",
    "        y=\"850000-900000\"\n",
    "    elif x>=900000 and x<950000:\n",
    "        y=\"900000-950000\"\n",
    "    else:\n",
    "        y=\">950000\"\n",
    "    \n",
    "    return y    "
   ]
  },
  {
   "cell_type": "code",
   "execution_count": 5,
   "metadata": {
    "collapsed": false
   },
   "outputs": [
    {
     "data": {
      "text/html": [
       "<div>\n",
       "<table border=\"1\" class=\"dataframe\">\n",
       "  <thead>\n",
       "    <tr style=\"text-align: right;\">\n",
       "      <th></th>\n",
       "      <th>Id</th>\n",
       "      <th>group</th>\n",
       "      <th>salesrank</th>\n",
       "      <th>counts</th>\n",
       "    </tr>\n",
       "  </thead>\n",
       "  <tbody>\n",
       "    <tr>\n",
       "      <th>0</th>\n",
       "      <td>371743</td>\n",
       "      <td>Book</td>\n",
       "      <td>101803</td>\n",
       "      <td>5</td>\n",
       "    </tr>\n",
       "    <tr>\n",
       "      <th>1</th>\n",
       "      <td>176080</td>\n",
       "      <td>Video</td>\n",
       "      <td>30980</td>\n",
       "      <td>2</td>\n",
       "    </tr>\n",
       "    <tr>\n",
       "      <th>2</th>\n",
       "      <td>224199</td>\n",
       "      <td>Music</td>\n",
       "      <td>87932</td>\n",
       "      <td>6</td>\n",
       "    </tr>\n",
       "    <tr>\n",
       "      <th>3</th>\n",
       "      <td>7558</td>\n",
       "      <td>Music</td>\n",
       "      <td>213553</td>\n",
       "      <td>2</td>\n",
       "    </tr>\n",
       "    <tr>\n",
       "      <th>4</th>\n",
       "      <td>290974</td>\n",
       "      <td>Book</td>\n",
       "      <td>420142</td>\n",
       "      <td>4</td>\n",
       "    </tr>\n",
       "    <tr>\n",
       "      <th>5</th>\n",
       "      <td>97775</td>\n",
       "      <td>Music</td>\n",
       "      <td>69381</td>\n",
       "      <td>4</td>\n",
       "    </tr>\n",
       "    <tr>\n",
       "      <th>6</th>\n",
       "      <td>418827</td>\n",
       "      <td>Book</td>\n",
       "      <td>32976</td>\n",
       "      <td>4</td>\n",
       "    </tr>\n",
       "    <tr>\n",
       "      <th>7</th>\n",
       "      <td>262697</td>\n",
       "      <td>Book</td>\n",
       "      <td>277892</td>\n",
       "      <td>1</td>\n",
       "    </tr>\n",
       "    <tr>\n",
       "      <th>8</th>\n",
       "      <td>33680</td>\n",
       "      <td>Book</td>\n",
       "      <td>1002872</td>\n",
       "      <td>6</td>\n",
       "    </tr>\n",
       "    <tr>\n",
       "      <th>9</th>\n",
       "      <td>421179</td>\n",
       "      <td>Book</td>\n",
       "      <td>518774</td>\n",
       "      <td>2</td>\n",
       "    </tr>\n",
       "  </tbody>\n",
       "</table>\n",
       "</div>"
      ],
      "text/plain": [
       "       Id  group salesrank counts\n",
       "0  371743   Book    101803      5\n",
       "1  176080  Video     30980      2\n",
       "2  224199  Music     87932      6\n",
       "3    7558  Music    213553      2\n",
       "4  290974   Book    420142      4\n",
       "5   97775  Music     69381      4\n",
       "6  418827   Book     32976      4\n",
       "7  262697   Book    277892      1\n",
       "8   33680   Book   1002872      6\n",
       "9  421179   Book    518774      2"
      ]
     },
     "execution_count": 5,
     "metadata": {},
     "output_type": "execute_result"
    }
   ],
   "source": [
    "import pandas as pd\n",
    "data_df=pd.DataFrame(data, columns=['Id','group','salesrank','counts'])\n",
    "data_df[0:10]"
   ]
  },
  {
   "cell_type": "code",
   "execution_count": 9,
   "metadata": {
    "collapsed": false
   },
   "outputs": [
    {
     "data": {
      "text/plain": [
       "True"
      ]
     },
     "execution_count": 9,
     "metadata": {},
     "output_type": "execute_result"
    }
   ],
   "source": []
  },
  {
   "cell_type": "code",
   "execution_count": 6,
   "metadata": {
    "collapsed": true
   },
   "outputs": [],
   "source": [
    "data_df.to_csv(\"output.csv\",header=True, index=False)"
   ]
  },
  {
   "cell_type": "code",
   "execution_count": null,
   "metadata": {
    "collapsed": true
   },
   "outputs": [],
   "source": []
  }
 ],
 "metadata": {
  "anaconda-cloud": {},
  "kernelspec": {
   "display_name": "Python [conda root]",
   "language": "python",
   "name": "conda-root-py"
  },
  "language_info": {
   "codemirror_mode": {
    "name": "ipython",
    "version": 3
   },
   "file_extension": ".py",
   "mimetype": "text/x-python",
   "name": "python",
   "nbconvert_exporter": "python",
   "pygments_lexer": "ipython3",
   "version": "3.5.2"
  }
 },
 "nbformat": 4,
 "nbformat_minor": 1
}
